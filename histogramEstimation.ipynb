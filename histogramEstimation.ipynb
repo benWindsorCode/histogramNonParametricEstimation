{
 "cells": [
  {
   "cell_type": "markdown",
   "metadata": {},
   "source": [
    "# Nonparametric curve estimation with historgrams\n",
    "This notebook is an exploration of the material from Wasserman's 'All of Statistics' chapter 20 'Nonparametric Curve Estimation'. We explore the idea of taking a known distribution and attempting to approximate the known pdf with a histogram.\n",
    "\n",
    "In particular given a pdf $f$, we can create a histogram $\\hat{f}$ to estimate our pdf. Note that $\\hat{f}$ is a random variable as it is dependant on drawing a sample from  our pdf. Given these two functions, we can then calculate the Mean Integrated Square Error (MISE), also called Risk\n",
    "$$R(f, \\hat{f}) = \\mathop{\\mathbb{E}}\\int{(f(x)-\\hat{f}(x))^2}dx.$$\n",
    "\n",
    "The MISE can be broken down into a 'bias' and  'variance' components $\\text{MISE} = \\int{b(x)^2dx} + \\int{v(x)dx}$ (roughly MISE = BIAS^2 + VARIANCE), for functions $b$ and $v$ calculated as follows\n",
    "$$b(x)=\\mathbb{E}(\\hat{f}(x))-f(x),$$\n",
    "$$v(x)=\\mathbb{E}\\left((\\hat{f}(x)-\\mathbb{E}(\\hat{f}(x))^2\\right).$$\n",
    "\n",
    "What we will see, is picking two few bins leads to a very high bias, as the avg difference between the predicted and actual points is large, but a smaller variance as in general the prediction function takes few values. However too high of a bin count and while bias is greatly reduced the variance is much larger."
   ]
  },
  {
   "cell_type": "code",
   "execution_count": 63,
   "metadata": {},
   "outputs": [],
   "source": [
    "import numpy as np\n",
    "import pandas as pd\n",
    "from scipy.stats import norm\n",
    "import scipy.integrate as integrate\n",
    "import matplotlib.pyplot as plt"
   ]
  },
  {
   "cell_type": "markdown",
   "metadata": {},
   "source": [
    "Create a normal distribution $N(\\mu, \\sigma^2)$, with $\\mu = 3$ and $\\sigma = 0.1$, giving pdf of $$\\phi(x) = \\frac{1}{\\sigma\\sqrt{2\\pi}}\\exp{\\left\\{-\\frac{1}{2}\\left(\\frac{x-3}{0.1}\\right)^2\\right\\}},$$\n",
    "which we denote below with the variable 'actual_pdf'. We then generate a sample and calculate two historgrams with vastly different bin counts."
   ]
  },
  {
   "cell_type": "code",
   "execution_count": 73,
   "metadata": {},
   "outputs": [],
   "source": [
    "mu = 3\n",
    "sigma = 0.1\n",
    "sample_size = 1000\n",
    "sample = np.random.normal(mu, sigma, sample_size)\n",
    "actual_pdf = lambda x: norm.pdf(x, mu, sigma)"
   ]
  },
  {
   "cell_type": "markdown",
   "metadata": {},
   "source": [
    "Our first histogram clearly does not have enough bins, and as such is a vary biased estimator of our pdf."
   ]
  },
  {
   "cell_type": "code",
   "execution_count": 55,
   "metadata": {},
   "outputs": [
    {
     "data": {
      "image/png": "[encoded data removed]",
      "text/plain": [
       "<Figure size 432x288 with 1 Axes>"
      ]
     },
     "metadata": {
      "needs_background": "light"
     },
     "output_type": "display_data"
    },
    {
     "name": "stdout",
     "output_type": "stream",
     "text": [
      "Areas: [0.58890119 3.32049669 0.62061125]\n",
      "Bin boundaries: [2.66532954 2.88607965 3.10682976 3.32757986]\n",
      "Bin widths: [0.22075011 0.22075011 0.22075011]\n",
      "Sum of areas x length of bins: 1.0\n"
     ]
    }
   ],
   "source": [
    "underestimate_heights, underestimate_bins, _ = plt.hist(sample, bins=3, density=True)\n",
    "plt.show()\n",
    "print(\"Areas: {}\".format(underestimate_heights))\n",
    "print(\"Bin boundaries: {}\".format(underestimate_bins))\n",
    "print(\"Bin widths: {}\".format(np.diff(underestimate_bins)))\n",
    "print(\"Sum of areas x length of bins: {}\".format(sum(np.diff(underestimate_bins)*underestimate_heights)))"
   ]
  },
  {
   "cell_type": "markdown",
   "metadata": {},
   "source": [
    "Our second histogram has many more bins, reducing bias but increasing variance."
   ]
  },
  {
   "cell_type": "code",
   "execution_count": 74,
   "metadata": {},
   "outputs": [
    {
     "data": {
      "image/png": "[encoded data removed]",
      "text/plain": [
       "<Figure size 432x288 with 1 Axes>"
      ]
     },
     "metadata": {
      "needs_background": "light"
     },
     "output_type": "display_data"
    }
   ],
   "source": [
    "overestimate_heights, overestimate_bins, _ = plt.hist(sample, bins=1500, density=True)\n",
    "plt.show()"
   ]
  },
  {
   "cell_type": "code",
   "execution_count": 75,
   "metadata": {},
   "outputs": [],
   "source": [
    "def histogram_pdf_estimate(heights, bin_boundaries):\n",
    "    def histogram_function(x):\n",
    "        for i in range(len(bin_boundaries)-1):\n",
    "            if x >= bin_boundaries[i] and x < bin_boundaries[i+1]:\n",
    "               # print(\"Checking: x between {} and {}\".format())\n",
    "                return heights[i]\n",
    "        return 0\n",
    "    return histogram_function\n",
    "\n",
    "underestimated_pdf = histogram_pdf_estimate(underestimate_heights, underestimate_bins)\n",
    "overestimated_pdf = histogram_pdf_estimate(overestimate_heights, overestimate_bins)"
   ]
  },
  {
   "cell_type": "code",
   "execution_count": 76,
   "metadata": {},
   "outputs": [
    {
     "name": "stderr",
     "output_type": "stream",
     "text": [
      "<ipython-input-76-a2f74950f021>:2: IntegrationWarning: The maximum number of subdivisions (3000) has been achieved.\n",
      "  If increasing the limit yields no improvement it is advised to analyze \n",
      "  the integrand in order to determine the difficulties.  If the position of a \n",
      "  local difficulty can be determined (singularity, discontinuity) one will \n",
      "  probably gain from splitting up the interval and calling the integrator \n",
      "  on the subranges.  Perhaps a special-purpose integrator should be used.\n",
      "  return integrate.quad(lambda x: (estimate_pdf(x)-actual_pdf(x))**2, -np.inf, np.inf, limit=3000)\n"
     ]
    },
    {
     "name": "stdout",
     "output_type": "stream",
     "text": [
      "Overtimate error: (2.287195632591539, 0.0012159571805434588), Underestimate error: (0.24262119046184694, 1.4222431606456759e-08)\n"
     ]
    }
   ],
   "source": [
    "def calculate_error(actual_pdf, estimate_pdf):\n",
    "    return integrate.quad(lambda x: (estimate_pdf(x)-actual_pdf(x))**2, -np.inf, np.inf, limit=3000)\n",
    "\n",
    "print(\"Overtimate error: {}, Underestimate error: {}\".format(calculate_error(actual_pdf, overestimated_pdf), calculate_error(actual_pdf, underestimated_pdf)))"
   ]
  },
  {
   "cell_type": "code",
   "execution_count": null,
   "metadata": {},
   "outputs": [],
   "source": []
  }
 ],
 "metadata": {
  "kernelspec": {
   "display_name": "Python 3",
   "language": "python",
   "name": "python3"
  },
  "language_info": {
   "codemirror_mode": {
    "name": "ipython",
    "version": 3
   },
   "file_extension": ".py",
   "mimetype": "text/x-python",
   "name": "python",
   "nbconvert_exporter": "python",
   "pygments_lexer": "ipython3",
   "version": "3.8.1"
  }
 },
 "nbformat": 4,
 "nbformat_minor": 4
}
