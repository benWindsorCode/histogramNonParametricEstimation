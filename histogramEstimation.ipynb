{
 "cells": [
  {
   "cell_type": "code",
   "execution_count": 63,
   "metadata": {},
   "outputs": [],
   "source": [
    "import numpy as np\n",
    "import pandas as pd\n",
    "from scipy.stats import norm\n",
    "import scipy.integrate as integrate\n",
    "import matplotlib.pyplot as plt"
   ]
  },
  {
   "cell_type": "code",
   "execution_count": 67,
   "metadata": {},
   "outputs": [
    {
     "data": {
      "image/png": "[encoded data removed]",
      "text/plain": [
       "<Figure size 432x288 with 1 Axes>"
      ]
     },
     "metadata": {
      "needs_background": "light"
     },
     "output_type": "display_data"
    }
   ],
   "source": [
    "mu = 3\n",
    "sigma = 0.1\n",
    "sample_size = 1000\n",
    "sample = np.random.normal(mu, sigma, sample_size)\n",
    "actual_pdf = lambda x: norm.pdf(x, mu, sigma)\n",
    "plt.hist(sample, bins=10, density=True)\n",
    "plt.show()"
   ]
  },
  {
   "cell_type": "code",
   "execution_count": 55,
   "metadata": {},
   "outputs": [
    {
     "data": {
      "image/png": "[encoded data removed]",
      "text/plain": [
       "<Figure size 432x288 with 1 Axes>"
      ]
     },
     "metadata": {
      "needs_background": "light"
     },
     "output_type": "display_data"
    },
    {
     "name": "stdout",
     "output_type": "stream",
     "text": [
      "Areas: [0.58890119 3.32049669 0.62061125]\n",
      "Bin boundaries: [2.66532954 2.88607965 3.10682976 3.32757986]\n",
      "Bin widths: [0.22075011 0.22075011 0.22075011]\n",
      "Sum of areas x length of bins: 1.0\n"
     ]
    }
   ],
   "source": [
    "underestimate_heights, underestimate_bins, _ = plt.hist(sample, bins=3, density=True)\n",
    "plt.show()\n",
    "print(\"Areas: {}\".format(underestimate_heights))\n",
    "print(\"Bin boundaries: {}\".format(underestimate_bins))\n",
    "print(\"Bin widths: {}\".format(np.diff(underestimate_bins)))\n",
    "print(\"Sum of areas x length of bins: {}\".format(sum(np.diff(underestimate_bins)*underestimate_heights)))"
   ]
  },
  {
   "cell_type": "code",
   "execution_count": 60,
   "metadata": {},
   "outputs": [
    {
     "data": {
      "image/png": "[encoded data removed]",
      "text/plain": [
       "<Figure size 432x288 with 1 Axes>"
      ]
     },
     "metadata": {
      "needs_background": "light"
     },
     "output_type": "display_data"
    }
   ],
   "source": [
    "overestimate_heights, overestimate_bins, _ = plt.hist(sample, bins=150, density=True)\n",
    "plt.show()"
   ]
  },
  {
   "cell_type": "code",
   "execution_count": 62,
   "metadata": {},
   "outputs": [],
   "source": [
    "def histogram_pdf_estimate(heights, bin_boundaries):\n",
    "    def histogram_function(x):\n",
    "        for i in range(len(bin_boundaries)-1):\n",
    "            if x >= bin_boundaries[i] and x < bin_boundaries[i+1]:\n",
    "               # print(\"Checking: x between {} and {}\".format())\n",
    "                return heights[i]\n",
    "        return 0\n",
    "    return histogram_function\n",
    "\n",
    "underestimated_pdf = histogram_pdf_estimate(underestimate_heights, underestimate_bins)\n",
    "overestimated_pdf = histogram_pdf_estimate(overestimate_heights, overestimate_bins)"
   ]
  },
  {
   "cell_type": "code",
   "execution_count": 71,
   "metadata": {},
   "outputs": [
    {
     "name": "stdout",
     "output_type": "stream",
     "text": [
      "Overtimate error: (0.20192783374527393, 2.8807525809249057e-09), Underestimate error: (0.24262119046184694, 1.4222431606456759e-08)\n"
     ]
    }
   ],
   "source": [
    "def calculate_error(actual_pdf, estimate_pdf):\n",
    "    return integrate.quad(lambda x: (estimate_pdf(x)-actual_pdf(x))**2, -np.inf, np.inf, limit=3000)\n",
    "\n",
    "print(\"Overtimate error: {}, Underestimate error: {}\".format(calculate_error(actual_pdf, overestimated_pdf), calculate_error(actual_pdf, underestimated_pdf)))"
   ]
  }
 ],
 "metadata": {
  "kernelspec": {
   "display_name": "Python 3",
   "language": "python",
   "name": "python3"
  },
  "language_info": {
   "codemirror_mode": {
    "name": "ipython",
    "version": 3
   },
   "file_extension": ".py",
   "mimetype": "text/x-python",
   "name": "python",
   "nbconvert_exporter": "python",
   "pygments_lexer": "ipython3",
   "version": "3.8.1"
  }
 },
 "nbformat": 4,
 "nbformat_minor": 4
}
